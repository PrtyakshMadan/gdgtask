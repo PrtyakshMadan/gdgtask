{
  "metadata": {
    "kernelspec": {
      "name": "python",
      "display_name": "Python (Pyodide)",
      "language": "python"
    },
    "language_info": {
      "codemirror_mode": {
        "name": "python",
        "version": 3
      },
      "file_extension": ".py",
      "mimetype": "text/x-python",
      "name": "python",
      "nbconvert_exporter": "python",
      "pygments_lexer": "ipython3",
      "version": "3.8"
    }
  },
  "nbformat_minor": 5,
  "nbformat": 4,
  "cells": [
    {
      "id": "34704643-ff0e-4619-8b15-9314331711f4",
      "cell_type": "code",
      "source": "import numpy as np\nimport pandas as pd\nfrom sklearn.model_selection import train_test_split\nfrom sklearn.preprocessing import StandardScaler, OneHotEncoder\nfrom sklearn.impute import SimpleImputer\nfrom sklearn.compose import ColumnTransformer\nfrom sklearn.pipeline import Pipeline\nfrom sklearn.linear_model import LinearRegression\nfrom sklearn.metrics import mean_squared_error\n\ntrain_data = pd.read_csv(\"train.csv\")\ntest_data = pd.read_csv(\"test.csv\")\n\ny = train_data[\"SalePrice\"]\nX = train_data.drop([\"SalePrice\", \"Id\"], axis=1)\ntest_ids = test_data[\"Id\"]\ntest_data = test_data.drop([\"Id\"], axis=1)\n\nnum_features = X.select_dtypes(include=[\"int64\", \"float64\"]).columns\ncat_features = X.select_dtypes(include=[\"object\"]).columns\n\nnum_pipeline = Pipeline([\n    ('imputer', SimpleImputer(strategy='mean')),\n    ('scaler', StandardScaler())\n])\n\ncat_pipeline = Pipeline([\n    ('imputer', SimpleImputer(strategy='most_frequent')),\n    ('encoder', OneHotEncoder(handle_unknown='ignore'))\n])\n\npreprocessor = ColumnTransformer([\n    ('num', num_pipeline, num_features),\n    ('cat', cat_pipeline, cat_features)\n])\n\nmodel = Pipeline([\n    ('preprocessor', preprocessor),\n    ('regressor', LinearRegression())\n])\n\nX_train, X_valid, y_train, y_valid = train_test_split(X, y, test_size=0.2, random_state=42)\n\nmodel.fit(X_train, y_train)\ny_pred = model.predict(X_valid)\nrmse = np.sqrt(mean_squared_error(y_valid, y_pred))\nprint(f'Validation RMSE: {rmse:.2f}')\ntest_preds = model.predict(test_data)\nsubmission = pd.DataFrame({\n    \"Id\": test_ids,\n    \"SalePrice\": test_preds\n})\nsubmission.to_csv(\"submission.csv\", index=False)\n\nprint(\"Submission file saved!\")",
      "metadata": {
        "trusted": true
      },
      "outputs": [
        {
          "name": "stdout",
          "output_type": "stream",
          "text": "Validation RMSE: 29475.19\nSubmission file saved!\n"
        }
      ],
      "execution_count": 3
    },
    {
      "id": "6cd39b14-f105-4cb8-88de-4aa8a8495817",
      "cell_type": "code",
      "source": "",
      "metadata": {
        "trusted": true
      },
      "outputs": [],
      "execution_count": null
    },
    {
      "id": "1b303ac9-b9bc-41a9-8388-f29b4a0d0d9c",
      "cell_type": "code",
      "source": "  ",
      "metadata": {
        "trusted": true
      },
      "outputs": [],
      "execution_count": null
    }
  ]
}